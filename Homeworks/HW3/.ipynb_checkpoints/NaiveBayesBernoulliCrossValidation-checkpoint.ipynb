{
 "cells": [
  {
   "cell_type": "code",
   "execution_count": 18,
   "metadata": {
    "collapsed": false
   },
   "outputs": [
    {
     "name": "stdout",
     "output_type": "stream",
     "text": [
      "Loading data...\n",
      "Building unigram model...\n",
      "Buliding Naive Bayes Classifier...\n",
      "Predicting on the test set...\n",
      "Accuracy is 74.5718642966 %\n",
      "The code took 23.2504870892 seconds...\n",
      "\n",
      "Building unigram model...\n",
      "Buliding Naive Bayes Classifier...\n",
      "Predicting on the test set...\n",
      "Accuracy is 75.2918822971 %\n",
      "The code took 25.3672020435 seconds...\n",
      "\n",
      "Building unigram model...\n",
      "Buliding Naive Bayes Classifier...\n",
      "Predicting on the test set...\n",
      "Accuracy is 75.2743818595 %\n",
      "The code took 24.7512359619 seconds...\n",
      "\n",
      "Building unigram model...\n",
      "Buliding Naive Bayes Classifier...\n",
      "Predicting on the test set...\n",
      "Accuracy is 75.3543838596 %\n",
      "The code took 25.2084281445 seconds...\n",
      "\n",
      "Building unigram model...\n",
      "Buliding Naive Bayes Classifier...\n",
      "Predicting on the test set...\n",
      "Accuracy is 74.1368534213 %\n",
      "The code took 24.1561639309 seconds...\n",
      "\n",
      "74.9258731468\n"
     ]
    }
   ],
   "source": [
    "import numpy as np\n",
    "import pandas as pd\n",
    "import sklearn\n",
    "import time\n",
    "from sklearn.feature_extraction.text import CountVectorizer\n",
    "from sklearn.naive_bayes import BernoulliNB\n",
    "from sklearn.model_selection import KFold\n",
    "\n",
    "def load_data(training_file, training_size, test_file, test_size):\n",
    "    print \"Loading data...\"\n",
    "    data = pd.read_csv(training_file, nrows = training_size)\n",
    "    test_data = pd.read_csv(test_file, nrows = test_size)\n",
    "    return data, test_data\n",
    "\n",
    "def model_counts(data, test_data):\n",
    "    print \"Building unigram model...\"\n",
    "    count_vect = CountVectorizer()\n",
    "    X_train_counts = count_vect.fit_transform(data['text'])\n",
    "    X_test_counts = count_vect.transform(test_data['text'])\n",
    "    return X_train_counts, X_test_counts\n",
    "\n",
    "def classifier(X_train_counts, data):\n",
    "    print \"Buliding Naive Bayes Classifier...\"\n",
    "    text_clf = BernoulliNB().fit(X_train_counts, data['label'])\n",
    "    return text_clf\n",
    "\n",
    "def prediction(X_test_counts, text_clf, test_data, start_time):\n",
    "    print \"Predicting on the test set...\"\n",
    "    predicted = text_clf.predict(X_test_counts)\n",
    "    accuracy = ( np.mean(predicted == test_data['label'])*100)\n",
    "    print \"Accuracy is %s %%\" % accuracy\n",
    "    print (\"The code took %s seconds...\\n\" % (time.time()-start_time))\n",
    "    return accuracy\n",
    "    \n",
    "\n",
    "def main():\n",
    "\n",
    "    training_file, test_file = 'reviews_tr.csv', 'reviews_te.csv'\n",
    "    training_size, test_size = 200000, 200000\n",
    "    data, test_data = load_data(training_file, training_size, test_file, test_size)\n",
    "    \n",
    "    folds = 5\n",
    "    kf = KFold(n_splits=folds)\n",
    "    predictions = np.zeros((folds))\n",
    "    i = 0\n",
    "\n",
    "    for train_index, test_index in kf.split(data):\n",
    "        start_time = time.time()\n",
    "        #print train_index, test_index\n",
    "        X_train, X_test = data[train_index[0]:train_index[-1]], data[test_index[0]:test_index[-1]]\n",
    "        X_train_counts, X_test_counts = model_counts(X_train, X_test)\n",
    "        text_clf = classifier(X_train_counts, X_train)\n",
    "        predictions[i] = prediction(X_test_counts, text_clf, X_test, start_time)\n",
    "        i = i + 1\n",
    "    \n",
    "    print np.mean(predictions)\n",
    "\n",
    "if __name__ == '__main__':\n",
    "    main()"
   ]
  },
  {
   "cell_type": "code",
   "execution_count": null,
   "metadata": {
    "collapsed": true
   },
   "outputs": [],
   "source": []
  },
  {
   "cell_type": "code",
   "execution_count": null,
   "metadata": {
    "collapsed": true
   },
   "outputs": [],
   "source": []
  }
 ],
 "metadata": {
  "kernelspec": {
   "display_name": "Python 2",
   "language": "python",
   "name": "python2"
  },
  "language_info": {
   "codemirror_mode": {
    "name": "ipython",
    "version": 2
   },
   "file_extension": ".py",
   "mimetype": "text/x-python",
   "name": "python",
   "nbconvert_exporter": "python",
   "pygments_lexer": "ipython2",
   "version": "2.7.12"
  }
 },
 "nbformat": 4,
 "nbformat_minor": 1
}

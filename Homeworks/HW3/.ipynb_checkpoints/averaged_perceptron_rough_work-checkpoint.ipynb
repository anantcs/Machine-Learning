{
 "cells": [
  {
   "cell_type": "code",
   "execution_count": 1,
   "metadata": {
    "collapsed": true
   },
   "outputs": [],
   "source": [
    "import numpy as np\n",
    "import pandas as pd\n",
    "import sklearn\n",
    "import time\n",
    "from sklearn.feature_extraction.text import CountVectorizer\n",
    "from sklearn.feature_extraction.text import TfidfTransformer\n",
    "from sklearn.naive_bayes import MultinomialNB\n",
    "from sklearn.pipeline import Pipeline"
   ]
  },
  {
   "cell_type": "code",
   "execution_count": 199,
   "metadata": {
    "collapsed": false
   },
   "outputs": [],
   "source": [
    "training_size = 200000\n",
    "training_file = 'reviews_tr.csv'\n",
    "test_size = 200000\n",
    "test_file = 'reviews_te.csv'\n",
    "data = pd.read_csv(training_file, nrows = training_size)\n",
    "test_data = pd.read_csv(test_file, nrows = test_size)"
   ]
  },
  {
   "cell_type": "code",
   "execution_count": 200,
   "metadata": {
    "collapsed": false
   },
   "outputs": [
    {
     "name": "stdout",
     "output_type": "stream",
     "text": [
      "(200000, 94134)\n",
      "(200000, 94134)\n"
     ]
    }
   ],
   "source": [
    "count_vect = CountVectorizer()\n",
    "X_train_counts = count_vect.fit_transform(data['text'])\n",
    "X_test_counts = count_vect.transform(test_data['text'])\n",
    "print X_train_counts.shape\n",
    "print X_test_counts.shape"
   ]
  },
  {
   "cell_type": "code",
   "execution_count": 201,
   "metadata": {
    "collapsed": false
   },
   "outputs": [
    {
     "name": "stdout",
     "output_type": "stream",
     "text": [
      "67452\n"
     ]
    }
   ],
   "source": [
    "x = data['text'].values\n",
    "y = data['label'].values\n",
    "y[y==0]=-1 #converting 0s to -1 so make perceptron work\n",
    "print np.count_nonzero(y==-1)"
   ]
  },
  {
   "cell_type": "code",
   "execution_count": 202,
   "metadata": {
    "collapsed": false
   },
   "outputs": [],
   "source": [
    "def averaged_perceptron_train(X_train_counts, y):\n",
    "    w = np.zeros((1, X_train_counts.shape[1]))\n",
    "    total_w = np.zeros((1, X_train_counts.shape[1]))\n",
    "    epochs = 1\n",
    "    t, c = 0, 1\n",
    "    total_t, total_c = 0, 1\n",
    "    for i in range(0, epochs):\n",
    "        for j in range(0, X_train_counts.shape[0]):\n",
    "            if(y[j]*(w*X_train_counts[j].T+t)<=0):\n",
    "                w = w + y[j]*X_train_counts[j]\n",
    "                t = t + y[j]\n",
    "            total_w += w*c\n",
    "            total_t += t*c\n",
    "            total_c += c\n",
    "            c = c + 1\n",
    "    weight = total_w / total_c\n",
    "    avg_t = total_t / total_c\n",
    "    return weight, avg_t"
   ]
  },
  {
   "cell_type": "code",
   "execution_count": 207,
   "metadata": {
    "collapsed": false
   },
   "outputs": [],
   "source": [
    "def averaged_perceptron_test(X_train_counts, weight, avg_t, data):\n",
    "    y = np.zeros((200000))\n",
    "    for i in range(0, 200000):\n",
    "        y[i] = X_train_counts[i]*weight.T + avg_t\n",
    "        #print y[i]\n",
    "        if(y[i] <= 0):\n",
    "            y[i] = -1\n",
    "        else:\n",
    "            y[i] = 1\n",
    "    print np.mean(y==data['label'])"
   ]
  },
  {
   "cell_type": "code",
   "execution_count": null,
   "metadata": {
    "collapsed": false
   },
   "outputs": [],
   "source": [
    "start_time = time.time()\n",
    "weight, avg_t = averaged_perceptron_train(X_train_counts, y)\n",
    "averaged_perceptron_test(X_train_counts, weight, avg_t, data)\n",
    "print time.time() - start_time"
   ]
  },
  {
   "cell_type": "code",
   "execution_count": null,
   "metadata": {
    "collapsed": true
   },
   "outputs": [],
   "source": []
  }
 ],
 "metadata": {
  "kernelspec": {
   "display_name": "Python 2",
   "language": "python",
   "name": "python2"
  },
  "language_info": {
   "codemirror_mode": {
    "name": "ipython",
    "version": 2
   },
   "file_extension": ".py",
   "mimetype": "text/x-python",
   "name": "python",
   "nbconvert_exporter": "python",
   "pygments_lexer": "ipython2",
   "version": "2.7.12"
  }
 },
 "nbformat": 4,
 "nbformat_minor": 1
}
